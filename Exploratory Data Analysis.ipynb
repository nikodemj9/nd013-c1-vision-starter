{
 "cells": [
  {
   "cell_type": "markdown",
   "metadata": {},
   "source": [
    "# Explore the dataset\n",
    "\n",
    "\n",
    "In this notebook, we will perform an EDA (Exploratory Data Analysis) on the processed Waymo dataset (data in the `processed` folder). In the first part, you will create a function to display "
   ]
  },
  {
   "cell_type": "code",
   "execution_count": null,
   "metadata": {},
   "outputs": [],
   "source": [
    "from utils import get_dataset\n",
    "import matplotlib.pyplot as plt\n",
    "import matplotlib.patches as patches\n",
    "import numpy as np\n",
    "from PIL import Image, ImageOps\n",
    "\n",
    "\n",
    "%matplotlib inline"
   ]
  },
  {
   "cell_type": "code",
   "execution_count": null,
   "metadata": {},
   "outputs": [],
   "source": [
    "dataset = get_dataset(\"/app/project/data/waymo/training_and_validation/*.tfrecord\")\n"
   ]
  },
  {
   "cell_type": "markdown",
   "metadata": {},
   "source": [
    "## Write a function to display an image and the bounding boxes\n",
    "\n",
    "Implement the `display_instances` function below. This function takes a batch as an input and display an image with its corresponding bounding boxes. The only requirement is that the classes should be color coded (eg, vehicles in red, pedestrians in blue, cyclist in green)."
   ]
  },
  {
   "cell_type": "code",
   "execution_count": null,
   "metadata": {},
   "outputs": [],
   "source": [
    "def display_instances(batch):\n",
    "    \"\"\"\n",
    "    This function takes a batch from the dataset and display the image with \n",
    "    the associated bounding boxes.\n",
    "    \"\"\"\n",
    "    color_coding = {\n",
    "            1 : \"red\", # Vehicles\n",
    "            2 : \"blue\", # Pedestrians\n",
    "            4 : \"green\" # Cyclists\n",
    "        }\n",
    "    fig, ax = plt.subplots(1, figsize=(20, 15))   \n",
    "    \n",
    "    img = batch['image'].numpy()\n",
    "    ax.imshow(img)\n",
    "\n",
    "    img_width, img_height, _ = img.shape\n",
    "    \n",
    "    for i, box in enumerate(batch['groundtruth_boxes']):\n",
    "            x1 = box[0] * img_width\n",
    "            y1 = box[1] * img_height\n",
    "            x2 = box[2] * img_width\n",
    "            y2 = box[3] * img_height\n",
    "            height = x2 - x1\n",
    "            width = y2 - y1\n",
    "            \n",
    "            color = color_coding[batch['groundtruth_classes'].numpy()[i]]\n",
    "            \n",
    "            rect = patches.Rectangle((y1,x1), width, height, linewidth=1, edgecolor=color, facecolor=\"none\")\n",
    "            ax.add_patch(rect)   \n",
    "    \n",
    "    plt.show()"
   ]
  },
  {
   "cell_type": "markdown",
   "metadata": {},
   "source": [
    "## Display 10 images \n",
    "\n",
    "Using the dataset created in the second cell and the function you just coded, display 10 random images with the associated bounding boxes. You can use the methods `take` and `shuffle` on the dataset."
   ]
  },
  {
   "cell_type": "code",
   "execution_count": null,
   "metadata": {},
   "outputs": [],
   "source": [
    "%%javascript\n",
    "IPython.OutputArea.prototype._should_scroll = function(lines) {\n",
    "    return false;\n",
    "}"
   ]
  },
  {
   "cell_type": "code",
   "execution_count": null,
   "metadata": {},
   "outputs": [],
   "source": [
    "dataset = dataset.shuffle(100, reshuffle_each_iteration=True)\n",
    "subset = dataset.take(10)\n",
    "\n",
    "for batch in subset:\n",
    "        display_instances(batch)\n",
    "\n"
   ]
  },
  {
   "cell_type": "markdown",
   "metadata": {},
   "source": [
    "## Additional EDA\n",
    "\n",
    "In this last part, you are free to perform any additional analysis of the dataset. What else would like to know about the data?\n",
    "For example, think about data distribution. So far, you have only looked at a single file..."
   ]
  },
  {
   "cell_type": "code",
   "execution_count": null,
   "metadata": {},
   "outputs": [],
   "source": [
    "# Statistics for car, pedestrian, cyclist class\n",
    "def add_count(count, statistics):\n",
    "    statistics[0] = count if count < statistics[0] else statistics[0]\n",
    "    statistics[1] = count if count > statistics[1] else statistics[1]\n",
    "    statistics[3] = statistics[3] + count if count > 0 else statistics[3]\n",
    "    \n",
    "def add_class_occurence(car, ped, cyc, co):\n",
    "    row = [car, ped, cyc]\n",
    "    co.append(row)\n",
    "\n",
    "def calculate_mean(total, statistics):\n",
    "    statistics[2] = statistics[3] / total\n",
    "\n",
    "statistics = [1e20, 0, 0, 0] # min, max, mean, total\n",
    "\n",
    "car_stat = statistics.copy()\n",
    "pedestrian_stat = statistics.copy()\n",
    "cyclists_stat = statistics.copy()\n",
    "\n",
    "classes_occurence = [] # Car, Pedestrian, Cyclists\n",
    "total_images = 0\n",
    "\n",
    "for batch in dataset.take(10000):\n",
    "    classes = batch['groundtruth_classes'].numpy()\n",
    "    total_images = total_images + 1 \n",
    "    \n",
    "    car_count = np.count_nonzero(classes == 1)\n",
    "    pedestrian_count = np.count_nonzero(classes == 2)\n",
    "    cyclists_count = np.count_nonzero(classes == 4)\n",
    "    \n",
    "    add_count(car_count, car_stat)\n",
    "    add_count(pedestrian_count, pedestrian_stat)\n",
    "    add_count(cyclists_count, cyclists_stat)\n",
    "    add_class_occurence(car_count, pedestrian_count, cyclists_count, classes_occurence)\n",
    "    \n",
    "calculate_mean(total_images, car_stat)\n",
    "calculate_mean(total_images, pedestrian_stat)\n",
    "calculate_mean(total_images, cyclists_stat)\n",
    "total_objects = car_stat[3] + pedestrian_stat[3] + cyclists_stat[3]\n",
    "\n",
    "# Printout statistics\n",
    "print('Total images: ', total_images)\n",
    "print('Total objects: ', total_objects)\n",
    "print('Car class min/max/mean/total: ', car_stat, ' Percentage: ', (car_stat[3]*100)/total_objects, \"%\" )\n",
    "print('Pedestrian class min/max/mean/total: ', pedestrian_stat, ' Percentage: ', (pedestrian_stat[3]*100)/total_objects, \"%\")\n",
    "print('Cyclist class min/max/mean/total: ', cyclists_stat, ' Percentage: ', (cyclists_stat[3]*100)/total_objects, \"%\")\n",
    "\n",
    "\n",
    "# Printout histograms\n",
    "classes_occurence = np.array(classes_occurence)\n",
    "fig, ax = plt.subplots(1, 1, sharey=True, tight_layout=False, figsize=(20, 15))\n",
    "ax.hist(classes_occurence[:, 0], bins=car_stat[1]-car_stat[0]+1)\n",
    "ax.set_title('Car class histogram')\n",
    "\n",
    "fig, ax = plt.subplots(1, 1, sharey=True, tight_layout=False, figsize=(20, 15))\n",
    "ax.hist(classes_occurence[:, 1], bins=pedestrian_stat[1]-pedestrian_stat[0]+1)\n",
    "ax.set_title('Pedestrian class histogram')\n",
    "\n",
    "fig, ax = plt.subplots(1, 1, sharey=True, tight_layout=False, figsize=(20, 15))\n",
    "ax.hist(classes_occurence[:, 2], bins=cyclists_stat[1]-cyclists_stat[0]+1)\n",
    "ax.set_title('Cyclist class histogram')\n",
    "\n",
    "# Histogram to determine images brightness\n",
    "\n"
   ]
  },
  {
   "cell_type": "code",
   "execution_count": null,
   "metadata": {},
   "outputs": [],
   "source": [
    "dataset = dataset.shuffle(200, reshuffle_each_iteration=True)\n",
    "\n",
    "gray_images = []\n",
    "\n",
    "for batch in dataset.take(200):\n",
    "    img = ImageOps.grayscale(Image.fromarray(batch['image'].numpy()))\n",
    "    gray_img = np.asarray(img)\n",
    "\n",
    "#     fig, ax = plt.subplots(1, figsize=(20, 15))   \n",
    "#     ax.imshow(gray_img, cmap='gray')\n",
    "\n",
    "    gray_images.extend(gray_img.flatten())\n",
    "\n",
    "fig, ax = plt.subplots(1, 1, sharey=True, tight_layout=False, figsize=(20, 15))\n",
    "ax.hist(gray_images, bins=256)\n",
    "ax.set_title('Brightness histogram')\n"
   ]
  },
  {
   "cell_type": "code",
   "execution_count": null,
   "metadata": {},
   "outputs": [],
   "source": []
  }
 ],
 "metadata": {
  "kernelspec": {
   "display_name": "Python 3 (ipykernel)",
   "language": "python",
   "name": "python3"
  },
  "language_info": {
   "codemirror_mode": {
    "name": "ipython",
    "version": 3
   },
   "file_extension": ".py",
   "mimetype": "text/x-python",
   "name": "python",
   "nbconvert_exporter": "python",
   "pygments_lexer": "ipython3",
   "version": "3.8.10"
  }
 },
 "nbformat": 4,
 "nbformat_minor": 4
}
